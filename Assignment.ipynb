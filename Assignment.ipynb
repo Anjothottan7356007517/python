{
  "nbformat": 4,
  "nbformat_minor": 0,
  "metadata": {
    "colab": {
      "provenance": []
    },
    "kernelspec": {
      "name": "python3",
      "display_name": "Python 3"
    },
    "language_info": {
      "name": "python"
    }
  },
  "cells": [
    {
      "cell_type": "code",
      "execution_count": 1,
      "metadata": {
        "id": "hhcyytxaUNwU"
      },
      "outputs": [],
      "source": [
        "import pandas as pd\n",
        "import numpy as np\n",
        "import tensorflow as tf"
      ]
    },
    {
      "cell_type": "code",
      "source": [
        "from keras.datasets import fashion_mnist\n",
        "(trainX, trainy), (testX, testy) = fashion_mnist.load_data()"
      ],
      "metadata": {
        "colab": {
          "base_uri": "https://localhost:8080/"
        },
        "id": "czaEP-vQUSRQ",
        "outputId": "4c6f5cd8-dbee-470e-bfda-e6b767d0ea23"
      },
      "execution_count": 2,
      "outputs": [
        {
          "output_type": "stream",
          "name": "stdout",
          "text": [
            "Downloading data from https://storage.googleapis.com/tensorflow/tf-keras-datasets/train-labels-idx1-ubyte.gz\n",
            "29515/29515 [==============================] - 0s 0us/step\n",
            "Downloading data from https://storage.googleapis.com/tensorflow/tf-keras-datasets/train-images-idx3-ubyte.gz\n",
            "26421880/26421880 [==============================] - 0s 0us/step\n",
            "Downloading data from https://storage.googleapis.com/tensorflow/tf-keras-datasets/t10k-labels-idx1-ubyte.gz\n",
            "5148/5148 [==============================] - 0s 0us/step\n",
            "Downloading data from https://storage.googleapis.com/tensorflow/tf-keras-datasets/t10k-images-idx3-ubyte.gz\n",
            "4422102/4422102 [==============================] - 0s 0us/step\n"
          ]
        }
      ]
    },
    {
      "cell_type": "code",
      "source": [
        "trainX.shape"
      ],
      "metadata": {
        "colab": {
          "base_uri": "https://localhost:8080/"
        },
        "id": "j8aSVGlsVdfC",
        "outputId": "271ebe03-6890-43d2-a367-0570c443fda2"
      },
      "execution_count": 4,
      "outputs": [
        {
          "output_type": "execute_result",
          "data": {
            "text/plain": [
              "(60000, 28, 28)"
            ]
          },
          "metadata": {},
          "execution_count": 4
        }
      ]
    },
    {
      "cell_type": "code",
      "source": [
        "testX.shape"
      ],
      "metadata": {
        "colab": {
          "base_uri": "https://localhost:8080/"
        },
        "id": "bCyvnAhWVrvh",
        "outputId": "0a677cd1-4aa0-4f26-c949-d77f341f4be4"
      },
      "execution_count": 5,
      "outputs": [
        {
          "output_type": "execute_result",
          "data": {
            "text/plain": [
              "(10000, 28, 28)"
            ]
          },
          "metadata": {},
          "execution_count": 5
        }
      ]
    },
    {
      "cell_type": "code",
      "source": [
        "print(trainX[0])"
      ],
      "metadata": {
        "colab": {
          "base_uri": "https://localhost:8080/"
        },
        "id": "L7OD7rpaV78Q",
        "outputId": "c4eec754-b83d-4871-c2b3-a1cea0b8d218"
      },
      "execution_count": 6,
      "outputs": [
        {
          "output_type": "stream",
          "name": "stdout",
          "text": [
            "[[  0   0   0   0   0   0   0   0   0   0   0   0   0   0   0   0   0   0\n",
            "    0   0   0   0   0   0   0   0   0   0]\n",
            " [  0   0   0   0   0   0   0   0   0   0   0   0   0   0   0   0   0   0\n",
            "    0   0   0   0   0   0   0   0   0   0]\n",
            " [  0   0   0   0   0   0   0   0   0   0   0   0   0   0   0   0   0   0\n",
            "    0   0   0   0   0   0   0   0   0   0]\n",
            " [  0   0   0   0   0   0   0   0   0   0   0   0   1   0   0  13  73   0\n",
            "    0   1   4   0   0   0   0   1   1   0]\n",
            " [  0   0   0   0   0   0   0   0   0   0   0   0   3   0  36 136 127  62\n",
            "   54   0   0   0   1   3   4   0   0   3]\n",
            " [  0   0   0   0   0   0   0   0   0   0   0   0   6   0 102 204 176 134\n",
            "  144 123  23   0   0   0   0  12  10   0]\n",
            " [  0   0   0   0   0   0   0   0   0   0   0   0   0   0 155 236 207 178\n",
            "  107 156 161 109  64  23  77 130  72  15]\n",
            " [  0   0   0   0   0   0   0   0   0   0   0   1   0  69 207 223 218 216\n",
            "  216 163 127 121 122 146 141  88 172  66]\n",
            " [  0   0   0   0   0   0   0   0   0   1   1   1   0 200 232 232 233 229\n",
            "  223 223 215 213 164 127 123 196 229   0]\n",
            " [  0   0   0   0   0   0   0   0   0   0   0   0   0 183 225 216 223 228\n",
            "  235 227 224 222 224 221 223 245 173   0]\n",
            " [  0   0   0   0   0   0   0   0   0   0   0   0   0 193 228 218 213 198\n",
            "  180 212 210 211 213 223 220 243 202   0]\n",
            " [  0   0   0   0   0   0   0   0   0   1   3   0  12 219 220 212 218 192\n",
            "  169 227 208 218 224 212 226 197 209  52]\n",
            " [  0   0   0   0   0   0   0   0   0   0   6   0  99 244 222 220 218 203\n",
            "  198 221 215 213 222 220 245 119 167  56]\n",
            " [  0   0   0   0   0   0   0   0   0   4   0   0  55 236 228 230 228 240\n",
            "  232 213 218 223 234 217 217 209  92   0]\n",
            " [  0   0   1   4   6   7   2   0   0   0   0   0 237 226 217 223 222 219\n",
            "  222 221 216 223 229 215 218 255  77   0]\n",
            " [  0   3   0   0   0   0   0   0   0  62 145 204 228 207 213 221 218 208\n",
            "  211 218 224 223 219 215 224 244 159   0]\n",
            " [  0   0   0   0  18  44  82 107 189 228 220 222 217 226 200 205 211 230\n",
            "  224 234 176 188 250 248 233 238 215   0]\n",
            " [  0  57 187 208 224 221 224 208 204 214 208 209 200 159 245 193 206 223\n",
            "  255 255 221 234 221 211 220 232 246   0]\n",
            " [  3 202 228 224 221 211 211 214 205 205 205 220 240  80 150 255 229 221\n",
            "  188 154 191 210 204 209 222 228 225   0]\n",
            " [ 98 233 198 210 222 229 229 234 249 220 194 215 217 241  65  73 106 117\n",
            "  168 219 221 215 217 223 223 224 229  29]\n",
            " [ 75 204 212 204 193 205 211 225 216 185 197 206 198 213 240 195 227 245\n",
            "  239 223 218 212 209 222 220 221 230  67]\n",
            " [ 48 203 183 194 213 197 185 190 194 192 202 214 219 221 220 236 225 216\n",
            "  199 206 186 181 177 172 181 205 206 115]\n",
            " [  0 122 219 193 179 171 183 196 204 210 213 207 211 210 200 196 194 191\n",
            "  195 191 198 192 176 156 167 177 210  92]\n",
            " [  0   0  74 189 212 191 175 172 175 181 185 188 189 188 193 198 204 209\n",
            "  210 210 211 188 188 194 192 216 170   0]\n",
            " [  2   0   0   0  66 200 222 237 239 242 246 243 244 221 220 193 191 179\n",
            "  182 182 181 176 166 168  99  58   0   0]\n",
            " [  0   0   0   0   0   0   0  40  61  44  72  41  35   0   0   0   0   0\n",
            "    0   0   0   0   0   0   0   0   0   0]\n",
            " [  0   0   0   0   0   0   0   0   0   0   0   0   0   0   0   0   0   0\n",
            "    0   0   0   0   0   0   0   0   0   0]\n",
            " [  0   0   0   0   0   0   0   0   0   0   0   0   0   0   0   0   0   0\n",
            "    0   0   0   0   0   0   0   0   0   0]]\n"
          ]
        }
      ]
    },
    {
      "cell_type": "code",
      "source": [
        "import matplotlib.pyplot as plt\n",
        "plt.imshow(trainX[0])"
      ],
      "metadata": {
        "colab": {
          "base_uri": "https://localhost:8080/",
          "height": 448
        },
        "id": "txNTNPlkWBFY",
        "outputId": "5673fd07-63e8-4800-a0a9-f5bcc6051487"
      },
      "execution_count": 7,
      "outputs": [
        {
          "output_type": "execute_result",
          "data": {
            "text/plain": [
              "<matplotlib.image.AxesImage at 0x7a3972b6c4f0>"
            ]
          },
          "metadata": {},
          "execution_count": 7
        },
        {
          "output_type": "display_data",
          "data": {
            "text/plain": [
              "<Figure size 640x480 with 1 Axes>"
            ],
            "image/png": "[encoded data removed]"
          },
          "metadata": {}
        }
      ]
    },
    {
      "cell_type": "code",
      "source": [
        "plt.figure(figsize=(10,10))\n",
        "for i in range(25):\n",
        "  plt.subplot(5,5,i+1)\n",
        "  plt.xticks([])\n",
        "  plt.yticks([])\n",
        "plt.imshow(trainX[i],cmap='gray')\n",
        "plt.xlabel(trainy[i])"
      ],
      "metadata": {
        "colab": {
          "base_uri": "https://localhost:8080/",
          "height": 844
        },
        "id": "a_15uOVbXJKn",
        "outputId": "bf931ed4-e992-4546-efe1-89b885fd0be2"
      },
      "execution_count": 12,
      "outputs": [
        {
          "output_type": "execute_result",
          "data": {
            "text/plain": [
              "Text(0.5, 0, '4')"
            ]
          },
          "metadata": {},
          "execution_count": 12
        },
        {
          "output_type": "display_data",
          "data": {
            "text/plain": [
              "<Figure size 1000x1000 with 25 Axes>"
            ],
            "image/png": "[encoded data removed]"
          },
          "metadata": {}
        }
      ]
    },
    {
      "cell_type": "code",
      "source": [
        "trainX=trainX/225\n",
        "testX=testX/225"
      ],
      "metadata": {
        "id": "t77UMm3NXksG"
      },
      "execution_count": 14,
      "outputs": []
    },
    {
      "cell_type": "code",
      "source": [
        "print(trainX[0])"
      ],
      "metadata": {
        "colab": {
          "base_uri": "https://localhost:8080/"
        },
        "id": "c2HL-pn8ZJWs",
        "outputId": "e73d422e-de6d-40ae-d62b-2509ebb241a1"
      },
      "execution_count": 15,
      "outputs": [
        {
          "output_type": "stream",
          "name": "stdout",
          "text": [
            "[[0.         0.         0.         0.         0.         0.\n",
            "  0.         0.         0.         0.         0.         0.\n",
            "  0.         0.         0.         0.         0.         0.\n",
            "  0.         0.         0.         0.         0.         0.\n",
            "  0.         0.         0.         0.        ]\n",
            " [0.         0.         0.         0.         0.         0.\n",
            "  0.         0.         0.         0.         0.         0.\n",
            "  0.         0.         0.         0.         0.         0.\n",
            "  0.         0.         0.         0.         0.         0.\n",
            "  0.         0.         0.         0.        ]\n",
            " [0.         0.         0.         0.         0.         0.\n",
            "  0.         0.         0.         0.         0.         0.\n",
            "  0.         0.         0.         0.         0.         0.\n",
            "  0.         0.         0.         0.         0.         0.\n",
            "  0.         0.         0.         0.        ]\n",
            " [0.         0.         0.         0.         0.         0.\n",
            "  0.         0.         0.         0.         0.         0.\n",
            "  0.00444444 0.         0.         0.05777778 0.32444444 0.\n",
            "  0.         0.00444444 0.01777778 0.         0.         0.\n",
            "  0.         0.00444444 0.00444444 0.        ]\n",
            " [0.         0.         0.         0.         0.         0.\n",
            "  0.         0.         0.         0.         0.         0.\n",
            "  0.01333333 0.         0.16       0.60444444 0.56444444 0.27555556\n",
            "  0.24       0.         0.         0.         0.00444444 0.01333333\n",
            "  0.01777778 0.         0.         0.01333333]\n",
            " [0.         0.         0.         0.         0.         0.\n",
            "  0.         0.         0.         0.         0.         0.\n",
            "  0.02666667 0.         0.45333333 0.90666667 0.78222222 0.59555556\n",
            "  0.64       0.54666667 0.10222222 0.         0.         0.\n",
            "  0.         0.05333333 0.04444444 0.        ]\n",
            " [0.         0.         0.         0.         0.         0.\n",
            "  0.         0.         0.         0.         0.         0.\n",
            "  0.         0.         0.68888889 1.04888889 0.92       0.79111111\n",
            "  0.47555556 0.69333333 0.71555556 0.48444444 0.28444444 0.10222222\n",
            "  0.34222222 0.57777778 0.32       0.06666667]\n",
            " [0.         0.         0.         0.         0.         0.\n",
            "  0.         0.         0.         0.         0.         0.00444444\n",
            "  0.         0.30666667 0.92       0.99111111 0.96888889 0.96\n",
            "  0.96       0.72444444 0.56444444 0.53777778 0.54222222 0.64888889\n",
            "  0.62666667 0.39111111 0.76444444 0.29333333]\n",
            " [0.         0.         0.         0.         0.         0.\n",
            "  0.         0.         0.         0.00444444 0.00444444 0.00444444\n",
            "  0.         0.88888889 1.03111111 1.03111111 1.03555556 1.01777778\n",
            "  0.99111111 0.99111111 0.95555556 0.94666667 0.72888889 0.56444444\n",
            "  0.54666667 0.87111111 1.01777778 0.        ]\n",
            " [0.         0.         0.         0.         0.         0.\n",
            "  0.         0.         0.         0.         0.         0.\n",
            "  0.         0.81333333 1.         0.96       0.99111111 1.01333333\n",
            "  1.04444444 1.00888889 0.99555556 0.98666667 0.99555556 0.98222222\n",
            "  0.99111111 1.08888889 0.76888889 0.        ]\n",
            " [0.         0.         0.         0.         0.         0.\n",
            "  0.         0.         0.         0.         0.         0.\n",
            "  0.         0.85777778 1.01333333 0.96888889 0.94666667 0.88\n",
            "  0.8        0.94222222 0.93333333 0.93777778 0.94666667 0.99111111\n",
            "  0.97777778 1.08       0.89777778 0.        ]\n",
            " [0.         0.         0.         0.         0.         0.\n",
            "  0.         0.         0.         0.00444444 0.01333333 0.\n",
            "  0.05333333 0.97333333 0.97777778 0.94222222 0.96888889 0.85333333\n",
            "  0.75111111 1.00888889 0.92444444 0.96888889 0.99555556 0.94222222\n",
            "  1.00444444 0.87555556 0.92888889 0.23111111]\n",
            " [0.         0.         0.         0.         0.         0.\n",
            "  0.         0.         0.         0.         0.02666667 0.\n",
            "  0.44       1.08444444 0.98666667 0.97777778 0.96888889 0.90222222\n",
            "  0.88       0.98222222 0.95555556 0.94666667 0.98666667 0.97777778\n",
            "  1.08888889 0.52888889 0.74222222 0.24888889]\n",
            " [0.         0.         0.         0.         0.         0.\n",
            "  0.         0.         0.         0.01777778 0.         0.\n",
            "  0.24444444 1.04888889 1.01333333 1.02222222 1.01333333 1.06666667\n",
            "  1.03111111 0.94666667 0.96888889 0.99111111 1.04       0.96444444\n",
            "  0.96444444 0.92888889 0.40888889 0.        ]\n",
            " [0.         0.         0.00444444 0.01777778 0.02666667 0.03111111\n",
            "  0.00888889 0.         0.         0.         0.         0.\n",
            "  1.05333333 1.00444444 0.96444444 0.99111111 0.98666667 0.97333333\n",
            "  0.98666667 0.98222222 0.96       0.99111111 1.01777778 0.95555556\n",
            "  0.96888889 1.13333333 0.34222222 0.        ]\n",
            " [0.         0.01333333 0.         0.         0.         0.\n",
            "  0.         0.         0.         0.27555556 0.64444444 0.90666667\n",
            "  1.01333333 0.92       0.94666667 0.98222222 0.96888889 0.92444444\n",
            "  0.93777778 0.96888889 0.99555556 0.99111111 0.97333333 0.95555556\n",
            "  0.99555556 1.08444444 0.70666667 0.        ]\n",
            " [0.         0.         0.         0.         0.08       0.19555556\n",
            "  0.36444444 0.47555556 0.84       1.01333333 0.97777778 0.98666667\n",
            "  0.96444444 1.00444444 0.88888889 0.91111111 0.93777778 1.02222222\n",
            "  0.99555556 1.04       0.78222222 0.83555556 1.11111111 1.10222222\n",
            "  1.03555556 1.05777778 0.95555556 0.        ]\n",
            " [0.         0.25333333 0.83111111 0.92444444 0.99555556 0.98222222\n",
            "  0.99555556 0.92444444 0.90666667 0.95111111 0.92444444 0.92888889\n",
            "  0.88888889 0.70666667 1.08888889 0.85777778 0.91555556 0.99111111\n",
            "  1.13333333 1.13333333 0.98222222 1.04       0.98222222 0.93777778\n",
            "  0.97777778 1.03111111 1.09333333 0.        ]\n",
            " [0.01333333 0.89777778 1.01333333 0.99555556 0.98222222 0.93777778\n",
            "  0.93777778 0.95111111 0.91111111 0.91111111 0.91111111 0.97777778\n",
            "  1.06666667 0.35555556 0.66666667 1.13333333 1.01777778 0.98222222\n",
            "  0.83555556 0.68444444 0.84888889 0.93333333 0.90666667 0.92888889\n",
            "  0.98666667 1.01333333 1.         0.        ]\n",
            " [0.43555556 1.03555556 0.88       0.93333333 0.98666667 1.01777778\n",
            "  1.01777778 1.04       1.10666667 0.97777778 0.86222222 0.95555556\n",
            "  0.96444444 1.07111111 0.28888889 0.32444444 0.47111111 0.52\n",
            "  0.74666667 0.97333333 0.98222222 0.95555556 0.96444444 0.99111111\n",
            "  0.99111111 0.99555556 1.01777778 0.12888889]\n",
            " [0.33333333 0.90666667 0.94222222 0.90666667 0.85777778 0.91111111\n",
            "  0.93777778 1.         0.96       0.82222222 0.87555556 0.91555556\n",
            "  0.88       0.94666667 1.06666667 0.86666667 1.00888889 1.08888889\n",
            "  1.06222222 0.99111111 0.96888889 0.94222222 0.92888889 0.98666667\n",
            "  0.97777778 0.98222222 1.02222222 0.29777778]\n",
            " [0.21333333 0.90222222 0.81333333 0.86222222 0.94666667 0.87555556\n",
            "  0.82222222 0.84444444 0.86222222 0.85333333 0.89777778 0.95111111\n",
            "  0.97333333 0.98222222 0.97777778 1.04888889 1.         0.96\n",
            "  0.88444444 0.91555556 0.82666667 0.80444444 0.78666667 0.76444444\n",
            "  0.80444444 0.91111111 0.91555556 0.51111111]\n",
            " [0.         0.54222222 0.97333333 0.85777778 0.79555556 0.76\n",
            "  0.81333333 0.87111111 0.90666667 0.93333333 0.94666667 0.92\n",
            "  0.93777778 0.93333333 0.88888889 0.87111111 0.86222222 0.84888889\n",
            "  0.86666667 0.84888889 0.88       0.85333333 0.78222222 0.69333333\n",
            "  0.74222222 0.78666667 0.93333333 0.40888889]\n",
            " [0.         0.         0.32888889 0.84       0.94222222 0.84888889\n",
            "  0.77777778 0.76444444 0.77777778 0.80444444 0.82222222 0.83555556\n",
            "  0.84       0.83555556 0.85777778 0.88       0.90666667 0.92888889\n",
            "  0.93333333 0.93333333 0.93777778 0.83555556 0.83555556 0.86222222\n",
            "  0.85333333 0.96       0.75555556 0.        ]\n",
            " [0.00888889 0.         0.         0.         0.29333333 0.88888889\n",
            "  0.98666667 1.05333333 1.06222222 1.07555556 1.09333333 1.08\n",
            "  1.08444444 0.98222222 0.97777778 0.85777778 0.84888889 0.79555556\n",
            "  0.80888889 0.80888889 0.80444444 0.78222222 0.73777778 0.74666667\n",
            "  0.44       0.25777778 0.         0.        ]\n",
            " [0.         0.         0.         0.         0.         0.\n",
            "  0.         0.17777778 0.27111111 0.19555556 0.32       0.18222222\n",
            "  0.15555556 0.         0.         0.         0.         0.\n",
            "  0.         0.         0.         0.         0.         0.\n",
            "  0.         0.         0.         0.        ]\n",
            " [0.         0.         0.         0.         0.         0.\n",
            "  0.         0.         0.         0.         0.         0.\n",
            "  0.         0.         0.         0.         0.         0.\n",
            "  0.         0.         0.         0.         0.         0.\n",
            "  0.         0.         0.         0.        ]\n",
            " [0.         0.         0.         0.         0.         0.\n",
            "  0.         0.         0.         0.         0.         0.\n",
            "  0.         0.         0.         0.         0.         0.\n",
            "  0.         0.         0.         0.         0.         0.\n",
            "  0.         0.         0.         0.        ]]\n"
          ]
        }
      ]
    },
    {
      "cell_type": "code",
      "source": [
        "from tensorflow.keras.models import Sequential\n",
        "from tensorflow.keras.layers import Dense,Conv2D,MaxPooling2D,Flatten\n",
        "from tensorflow.keras.optimizers import Adam"
      ],
      "metadata": {
        "id": "BUFWFYMFZggn"
      },
      "execution_count": 16,
      "outputs": []
    },
    {
      "cell_type": "code",
      "source": [
        "from tensorflow.keras.utils import to_categorical\n",
        "trainy=to_categorical(trainy)\n",
        "testy=to_categorical(testy)"
      ],
      "metadata": {
        "id": "e2fN5940Zjku"
      },
      "execution_count": 17,
      "outputs": []
    },
    {
      "cell_type": "code",
      "source": [
        "trainy[0]"
      ],
      "metadata": {
        "colab": {
          "base_uri": "https://localhost:8080/"
        },
        "id": "cl4pQynzZp0e",
        "outputId": "0eae9231-c727-44e2-c404-faef8d79d786"
      },
      "execution_count": 18,
      "outputs": [
        {
          "output_type": "execute_result",
          "data": {
            "text/plain": [
              "array([0., 0., 0., 0., 0., 0., 0., 0., 0., 1.], dtype=float32)"
            ]
          },
          "metadata": {},
          "execution_count": 18
        }
      ]
    },
    {
      "cell_type": "code",
      "source": [
        "trainy[1]"
      ],
      "metadata": {
        "colab": {
          "base_uri": "https://localhost:8080/"
        },
        "id": "327bULvkZsbW",
        "outputId": "9b0db653-d4d5-4a48-d65a-b2a13132d1b1"
      },
      "execution_count": 19,
      "outputs": [
        {
          "output_type": "execute_result",
          "data": {
            "text/plain": [
              "array([1., 0., 0., 0., 0., 0., 0., 0., 0., 0.], dtype=float32)"
            ]
          },
          "metadata": {},
          "execution_count": 19
        }
      ]
    },
    {
      "cell_type": "code",
      "source": [
        "model=Sequential()\n",
        "model.add(Conv2D(32,(3,3),activation='relu',input_shape=(28,28,1)))\n",
        "model.add(MaxPooling2D(2,2))\n",
        "model.add(Flatten())\n",
        "model.add(Dense(32,activation='relu'))\n",
        "model.add(Dense(10,activation='softmax'))\n",
        "\n"
      ],
      "metadata": {
        "id": "f9COBNp3bnVg"
      },
      "execution_count": 20,
      "outputs": []
    },
    {
      "cell_type": "code",
      "source": [
        "model.compile(optimizer='Adam',loss='categorical_crossentropy',metrics=['accuracy'])"
      ],
      "metadata": {
        "id": "_KceC5SYbqfI"
      },
      "execution_count": 21,
      "outputs": []
    },
    {
      "cell_type": "code",
      "source": [
        "model.mnist = model.fit(trainX,trainy,epochs=10,validation_data=(testX,testy))"
      ],
      "metadata": {
        "colab": {
          "base_uri": "https://localhost:8080/"
        },
        "id": "JK7l0IP-bvsY",
        "outputId": "431f1522-d3fd-434e-8472-52ba0615900a"
      },
      "execution_count": 22,
      "outputs": [
        {
          "output_type": "stream",
          "name": "stdout",
          "text": [
            "Epoch 1/10\n",
            "1875/1875 [==============================] - 41s 21ms/step - loss: 0.4349 - accuracy: 0.8464 - val_loss: 0.3694 - val_accuracy: 0.8686\n",
            "Epoch 2/10\n",
            "1875/1875 [==============================] - 37s 20ms/step - loss: 0.2919 - accuracy: 0.8964 - val_loss: 0.2987 - val_accuracy: 0.8921\n",
            "Epoch 3/10\n",
            "1875/1875 [==============================] - 40s 21ms/step - loss: 0.2574 - accuracy: 0.9077 - val_loss: 0.2951 - val_accuracy: 0.8962\n",
            "Epoch 4/10\n",
            "1875/1875 [==============================] - 35s 19ms/step - loss: 0.2340 - accuracy: 0.9156 - val_loss: 0.2787 - val_accuracy: 0.9015\n",
            "Epoch 5/10\n",
            "1875/1875 [==============================] - 35s 19ms/step - loss: 0.2129 - accuracy: 0.9223 - val_loss: 0.2725 - val_accuracy: 0.9043\n",
            "Epoch 6/10\n",
            "1875/1875 [==============================] - 36s 19ms/step - loss: 0.1956 - accuracy: 0.9280 - val_loss: 0.2782 - val_accuracy: 0.9010\n",
            "Epoch 7/10\n",
            "1875/1875 [==============================] - 34s 18ms/step - loss: 0.1797 - accuracy: 0.9322 - val_loss: 0.2688 - val_accuracy: 0.9043\n",
            "Epoch 8/10\n",
            "1875/1875 [==============================] - 37s 20ms/step - loss: 0.1649 - accuracy: 0.9390 - val_loss: 0.2774 - val_accuracy: 0.9035\n",
            "Epoch 9/10\n",
            "1875/1875 [==============================] - 38s 20ms/step - loss: 0.1529 - accuracy: 0.9440 - val_loss: 0.2758 - val_accuracy: 0.9082\n",
            "Epoch 10/10\n",
            "1875/1875 [==============================] - 34s 18ms/step - loss: 0.1415 - accuracy: 0.9473 - val_loss: 0.2791 - val_accuracy: 0.9075\n"
          ]
        }
      ]
    },
    {
      "cell_type": "code",
      "source": [
        "#loading image to test\n",
        "from google.colab import files\n",
        "import io\n",
        "from PIL import Image"
      ],
      "metadata": {
        "id": "eO9Kp75Ib3zo"
      },
      "execution_count": 23,
      "outputs": []
    },
    {
      "cell_type": "code",
      "source": [
        "image_path='/content/robo.jpg'"
      ],
      "metadata": {
        "id": "X7MLRSyPb6Sw"
      },
      "execution_count": 24,
      "outputs": []
    },
    {
      "cell_type": "code",
      "source": [
        "new_image=Image.open(image_path).convert('L') #gray scale\n",
        "new_image=new_image.resize((28,28)) #resizing to 28*28\n",
        "new_image=np.array(new_image) #converting to numpy array\n",
        "new_image=new_image.reshape((1,28,28,1)).astype('float32')/255 #reshaping and normalizing"
      ],
      "metadata": {
        "id": "3D_yaLIJcQfQ"
      },
      "execution_count": 25,
      "outputs": []
    },
    {
      "cell_type": "code",
      "source": [
        "pred=model.predict(new_image)\n",
        "pred_digit=np.argmax(pred)\n",
        "print(pred)"
      ],
      "metadata": {
        "colab": {
          "base_uri": "https://localhost:8080/"
        },
        "id": "xSEJXNBndmlF",
        "outputId": "cfb0a7a0-dbf8-40f9-a3ac-da65ceaf9f05"
      },
      "execution_count": 26,
      "outputs": [
        {
          "output_type": "stream",
          "name": "stdout",
          "text": [
            "1/1 [==============================] - 0s 489ms/step\n",
            "[[5.6537963e-02 6.9632906e-01 3.7019335e-02 6.8538278e-02 6.3159660e-02\n",
            "  2.6125328e-03 4.3050572e-02 1.6285689e-03 3.0454282e-02 6.6973927e-04]]\n"
          ]
        }
      ]
    },
    {
      "cell_type": "code",
      "source": [
        "prediction=model.predict(new_image)\n",
        "prediction_digit=np.argmax(prediction)\n",
        "print(f'predicted digit : {prediction_digit}')"
      ],
      "metadata": {
        "colab": {
          "base_uri": "https://localhost:8080/"
        },
        "id": "unSs_RcSdpW1",
        "outputId": "0a7b3cb0-bef9-45a8-c3d0-77874cfc4588"
      },
      "execution_count": 33,
      "outputs": [
        {
          "output_type": "stream",
          "name": "stdout",
          "text": [
            "1/1 [==============================] - 0s 22ms/step\n",
            "predicted digit : 1\n"
          ]
        }
      ]
    },
    {
      "cell_type": "code",
      "source": [],
      "metadata": {
        "id": "wbppL_yRfstU"
      },
      "execution_count": null,
      "outputs": []
    }
  ]
}